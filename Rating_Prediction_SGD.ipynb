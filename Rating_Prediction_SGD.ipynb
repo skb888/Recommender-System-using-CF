{
 "cells": [
  {
   "cell_type": "code",
   "execution_count": 1,
   "metadata": {
    "collapsed": true
   },
   "outputs": [],
   "source": [
    "#Read Data From CSV file\n",
    "import pandas as pd\n",
    "df=pd.read_csv('NEWDATATABLE.csv', sep=',',header=None)\n",
    "ratings = df.values"
   ]
  },
  {
   "cell_type": "code",
   "execution_count": 2,
   "metadata": {
    "collapsed": true
   },
   "outputs": [],
   "source": [
    "import numpy as np\n",
    "import matplotlib.pyplot as plt\n",
    "%matplotlib inline"
   ]
  },
  {
   "cell_type": "code",
   "execution_count": 3,
   "metadata": {
    "collapsed": true
   },
   "outputs": [],
   "source": [
    "def train_test_generation(ratings):\n",
    "    #Cretae train and test matrix\n",
    "    test = np.ones(ratings.shape) * 99 #24983*100 and initzalize all be unknown 99 and ratings.shape[0] return 24983\n",
    "    train = ratings.copy()\n",
    "    #Make all unknown numbers 99 be 0\n",
    "    train = train - np.ones(ratings.shape) * 99\n",
    "    for user in xrange(ratings.shape[0]):\n",
    "        #Randomly pick 10 ratings from each user to be in test case (include unknown ratings)\n",
    "        test_ratings = np.random.choice(ratings[user, :].nonzero()[0], size = 20, replace = False)\n",
    "        #Set chosen be zero in training\n",
    "        train [user, test_ratings] = 0.\n",
    "        #Assign chosen rating to test case\n",
    "        test[user, test_ratings] = ratings[user, test_ratings]\n",
    "    \n",
    "    train = train + np.ones(ratings.shape) * 99\n",
    "    #Make sure train and test are disjoint \n",
    "    #assert(np.all((train * test) == 0))\n",
    "    return train, test"
   ]
  },
  {
   "cell_type": "code",
   "execution_count": 4,
   "metadata": {
    "collapsed": true
   },
   "outputs": [],
   "source": [
    "#Call the function and then assign train and test\n",
    "train, test = train_test_generation(ratings)\n",
    "trainMAE = train.copy()\n",
    "#Masked for CF and not masked for SVD\n",
    "train = np.ma.masked_where(train == 99, train)\n",
    "test = np.ma.masked_where(test == 99, test)"
   ]
  },
  {
   "cell_type": "code",
   "execution_count": 8,
   "metadata": {
    "collapsed": true
   },
   "outputs": [],
   "source": [
    "#Compute MAE in training and test\n",
    "def get_mae(pred, actual):\n",
    "    mae_sum = 0\n",
    "    count = 0\n",
    "    for indexI in range(24983):\n",
    "        for indexJ in range(100):\n",
    "            if actual[indexI][indexJ] != 99:\n",
    "                mae_sum = mae_sum + np.abs(pred[indexI][indexJ] - actual[indexI][indexJ])\n",
    "                count = count + 1    \n",
    "    mae_sum = float(mae_sum) / count\n",
    "    return mae_sum"
   ]
  },
  {
   "cell_type": "code",
   "execution_count": 22,
   "metadata": {
    "collapsed": false
   },
   "outputs": [],
   "source": [
    "def SGD_factorization(train, K, steps=150, alpha=0.0001, beta=0.02):\n",
    "    N_user, N_item = train.shape\n",
    "    #U and V are latent vectors\n",
    "    U = np.random.rand(N_user,K)\n",
    "    V = np.random.rand(N_item,K).T\n",
    "    \n",
    "    #Run 10 steps\n",
    "    for step in xrange(steps):\n",
    "        for i in xrange(N_user):\n",
    "            for j in xrange(N_item):\n",
    "                if train[i,j] > -10 and train[i,j] < 10:\n",
    "                    eij = train[i][j] - np.dot(U[i,:],V[:,j])\n",
    "                    U[i] = U[i] + alpha * (2 * eij * V[:,j] - beta * U[i])\n",
    "                    V[:,j] = V[:,j] + alpha * (2 * eij * U[i] - beta * V[:,j])\n",
    "    nR = np.dot(U,V)\n",
    "    return nR"
   ]
  },
  {
   "cell_type": "code",
   "execution_count": null,
   "metadata": {
    "collapsed": false
   },
   "outputs": [],
   "source": [
    "K = 10\n",
    "prediction_SGD = SGD_factorization(train, K=10, steps=150, alpha=0.0001)\n",
    "print 'SGD Train MAE: ' + str(get_mae(prediction_SGD, train))\n",
    "print 'SGD Test MAE: ' + str(get_mae(prediction_SGD, test))"
   ]
  }
 ],
 "metadata": {
  "kernelspec": {
   "display_name": "Python 2",
   "language": "python",
   "name": "python2"
  },
  "language_info": {
   "codemirror_mode": {
    "name": "ipython",
    "version": 2
   },
   "file_extension": ".py",
   "mimetype": "text/x-python",
   "name": "python",
   "nbconvert_exporter": "python",
   "pygments_lexer": "ipython2",
   "version": "2.7.13"
  }
 },
 "nbformat": 4,
 "nbformat_minor": 2
}
