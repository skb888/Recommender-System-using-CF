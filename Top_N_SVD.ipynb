{
 "cells": [
  {
   "cell_type": "code",
   "execution_count": 1,
   "metadata": {
    "collapsed": true
   },
   "outputs": [],
   "source": [
    "#Read Data From CSV file\n",
    "import pandas as pd\n",
    "df=pd.read_csv('NEWDATATABLE.csv', sep=',',header=None)\n",
    "ratings = df.values"
   ]
  },
  {
   "cell_type": "code",
   "execution_count": 2,
   "metadata": {
    "collapsed": true
   },
   "outputs": [],
   "source": [
    "import numpy as np\n",
    "import matplotlib.pyplot as plt\n",
    "%matplotlib inline"
   ]
  },
  {
   "cell_type": "code",
   "execution_count": 3,
   "metadata": {
    "collapsed": false
   },
   "outputs": [],
   "source": [
    "TopN_recommend = ratings.copy()\n",
    "for indexI in range(24983):\n",
    "    for indexJ in range(100):\n",
    "        if TopN_recommend[indexI][indexJ] == 99:\n",
    "            TopN_recommend[indexI][indexJ] = 0\n",
    "        else:\n",
    "            TopN_recommend[indexI][indexJ] = 1"
   ]
  },
  {
   "cell_type": "code",
   "execution_count": 4,
   "metadata": {
    "collapsed": false
   },
   "outputs": [],
   "source": [
    "def train_test_generation(ratings):\n",
    "    #Cretae train and test matrix\n",
    "    test = np.zeros(ratings.shape)\n",
    "    train = ratings.copy()\n",
    "    for user in xrange(ratings.shape[0]):\n",
    "        #Randomly pick 10 ratings from each user to be in test case (include unknown ratings)\n",
    "        test_ratings = np.random.choice(ratings[user, :].nonzero()[0], size = 20, replace = False)\n",
    "        #Set chosen be zero in training\n",
    "        train [user, test_ratings] = 0.\n",
    "        #Assign chosen rating to test case\n",
    "        test[user, test_ratings] = ratings[user, test_ratings]\n",
    "    \n",
    "    #Make sure train and test are disjoint \n",
    "    assert(np.all((train * test) == 0))\n",
    "    return train, test"
   ]
  },
  {
   "cell_type": "code",
   "execution_count": 5,
   "metadata": {
    "collapsed": false
   },
   "outputs": [],
   "source": [
    "#Call the function and then assign train and test\n",
    "train, test = train_test_generation(TopN_recommend)\n",
    "trainMAE = train.copy()"
   ]
  },
  {
   "cell_type": "code",
   "execution_count": 6,
   "metadata": {
    "collapsed": true
   },
   "outputs": [],
   "source": [
    "from scipy.sparse.linalg import svds\n",
    "\n",
    "U, sigma, Vt = svds(train, k=10)\n",
    "sigma = np.diag(sigma)\n",
    "#predicted_TopN_recommend is used for reducing to lower dimension\n",
    "predicted_TopN_recommend = np.dot(np.dot(U, sigma), Vt)"
   ]
  },
  {
   "cell_type": "code",
   "execution_count": 8,
   "metadata": {
    "collapsed": true
   },
   "outputs": [],
   "source": [
    "#Full dimension \n",
    "predicted_TopN_recommend = train"
   ]
  },
  {
   "cell_type": "code",
   "execution_count": 9,
   "metadata": {
    "collapsed": false
   },
   "outputs": [],
   "source": [
    "#Fcn to compute user or item similarity\n",
    "from sklearn.metrics.pairwise import cosine_similarity\n",
    "\n",
    "def similarity(ratings, kind='user'):\n",
    "    if kind == 'user':\n",
    "        sim = cosine_similarity(ratings)\n",
    "        assert(sim.shape[0] == ratings.shape[0])\n",
    "    elif kind == 'item':\n",
    "        sim = cosine_similarity(ratings.T)\n",
    "        assert(sim.shape[0] == ratings.shape[1])\n",
    "    sim[np.isnan(sim)] = 0\n",
    "    np.fill_diagonal(sim,0)\n",
    "    return sim"
   ]
  },
  {
   "cell_type": "code",
   "execution_count": 10,
   "metadata": {
    "collapsed": true
   },
   "outputs": [],
   "source": [
    "#Compute user similarity\n",
    "user_similarity_TopN_recommend = similarity(predicted_TopN_recommend, kind='user')\n",
    "#Copy them for finding index in KNN\n",
    "user_similarity_fcn_TopN_recommend = user_similarity_TopN_recommend.copy()"
   ]
  },
  {
   "cell_type": "code",
   "execution_count": null,
   "metadata": {
    "collapsed": true
   },
   "outputs": [],
   "source": [
    "#Find KNN thu sklearn lib\n",
    "from sklearn.neighbors import NearestNeighbors\n",
    "nbrs = NearestNeighbors(n_neighbors=5).fit(user_similarity_fcn_TopN_recommend)\n",
    "KNN_result = nbrs.kneighbors_graph(user_similarity_fcn_TopN_recommend).toarray()"
   ]
  },
  {
   "cell_type": "code",
   "execution_count": null,
   "metadata": {
    "collapsed": true
   },
   "outputs": [],
   "source": [
    "from collections import defaultdict\n",
    "KNN_index_result = defaultdict(list)\n",
    "\n",
    "for indexI in range(24983):\n",
    "    temp_KNN_index = []\n",
    "    #Conversion for call sklearn KNN lib\n",
    "    temp_KNN_index = list(KNN_result[indexI].nonzero()[0])\n",
    "    KNN_index_result[indexI].append(temp_KNN_index)"
   ]
  },
  {
   "cell_type": "code",
   "execution_count": 52,
   "metadata": {
    "collapsed": false
   },
   "outputs": [],
   "source": [
    "#Recommend Top N items and save their item index into NumberMax List\n",
    "L = len(KNN_result)\n",
    "NumberMax = []\n",
    "for indexI in range(L):\n",
    "    temp_total= np.zeros((100,))\n",
    "    for indexJ in range(k):\n",
    "        temp_total = np.add(temp_total, TopN_recommend[KNN_index_result[indexI][0][indexJ]])\n",
    "        \n",
    "    Maxtemp = max(temp_total)\n",
    "    NumberMax.append(np.where(temp_total == Maxtemp)[0])"
   ]
  },
  {
   "cell_type": "code",
   "execution_count": 124,
   "metadata": {
    "collapsed": false
   },
   "outputs": [],
   "source": [
    "#Compute recall and precise for each user\n",
    "def recall_precise(index_matrix, test_index):\n",
    "    recall_result = []\n",
    "    precise_result = []\n",
    "    \n",
    "    for indexI in range(len(index_matrix)):\n",
    "        count = 0\n",
    "        index_matrix_conversion = list(index_matrix[indexI])\n",
    "        for item in index_matrix_conversion:\n",
    "            if test_index[indexI][item] == 1:\n",
    "                count = count + 1\n",
    "        recall_temp = float(count) / 20\n",
    "        precise_temp = float(count) / len(index_matrix[indexI])\n",
    "        recall_result.append(recall_temp)\n",
    "        precise_result.append(precise_temp)\n",
    "    return recall_result, precise_result"
   ]
  },
  {
   "cell_type": "code",
   "execution_count": 131,
   "metadata": {
    "collapsed": false
   },
   "outputs": [],
   "source": [
    "#Compute average user metric and then find final mertic \n",
    "def F1_metric(recall, precise):\n",
    "    F1_result = [] \n",
    "    for indexI in range(len(recall)):\n",
    "        F1_temp = 2 * recall[indexI] * precise[indexI] / float(recall[indexI] + precise[indexI])\n",
    "    F1_result.append(F1_temp)\n",
    "    F1_AVG = sum(F1_result) / float(len(F1_result))\n",
    "    return F1_AVG"
   ]
  },
  {
   "cell_type": "code",
   "execution_count": 132,
   "metadata": {
    "collapsed": false
   },
   "outputs": [],
   "source": [
    "#Call two fcns to achieve to find\n",
    "recall_each, precise_each = recall_precise(NumberMax, test)\n",
    "F1_AVG_result = F1_metric(recall_each, precise_each)"
   ]
  },
  {
   "cell_type": "code",
   "execution_count": null,
   "metadata": {
    "collapsed": true
   },
   "outputs": [],
   "source": []
  }
 ],
 "metadata": {
  "kernelspec": {
   "display_name": "Python 2",
   "language": "python",
   "name": "python2"
  },
  "language_info": {
   "codemirror_mode": {
    "name": "ipython",
    "version": 2
   },
   "file_extension": ".py",
   "mimetype": "text/x-python",
   "name": "python",
   "nbconvert_exporter": "python",
   "pygments_lexer": "ipython2",
   "version": "2.7.13"
  }
 },
 "nbformat": 4,
 "nbformat_minor": 2
}
