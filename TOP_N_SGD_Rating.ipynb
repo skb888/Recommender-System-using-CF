{
 "cells": [
  {
   "cell_type": "code",
   "execution_count": 1,
   "metadata": {
    "collapsed": true
   },
   "outputs": [],
   "source": [
    "#Read Data From CSV file\n",
    "import pandas as pd\n",
    "import numpy as np\n",
    "import matplotlib.pyplot as plt\n",
    "%matplotlib inline\n",
    "df=pd.read_csv('NEWDATATABLE.csv', sep=',',header=None)\n",
    "ratings = df.values"
   ]
  },
  {
   "cell_type": "code",
   "execution_count": 2,
   "metadata": {
    "collapsed": true
   },
   "outputs": [],
   "source": [
    "def train_test_generation(ratings):\n",
    "    #Cretae train and test matrix\n",
    "    test = np.zeros(ratings.shape)\n",
    "    train = ratings.copy()\n",
    "    for user in xrange(ratings.shape[0]):\n",
    "        temp = list(ratings[user, :])\n",
    "        temp_list = []\n",
    "        count = 0\n",
    "        # Choose top 10 known to be in test case\n",
    "        for item in temp:\n",
    "            if item != 99:\n",
    "                temp_list.append(item)\n",
    "        temp_list = sorted(temp_list, reverse=True)  \n",
    "        while count < 10:\n",
    "            count = count + 1\n",
    "            Index_temp = temp.index(temp_list[count])\n",
    "            #Set chosen be zero in training\n",
    "            train [user, Index_temp] = 0.\n",
    "            #Assign chosen rating to test case\n",
    "            test[user, Index_temp] = ratings[user, Index_temp]\n",
    "            ratings[user, Index_temp] = 0.\n",
    "            temp = list(ratings[user, :])\n",
    "            temp_list = []\n",
    "            for item in temp:\n",
    "                if item != 99:\n",
    "                    temp_list.append(item)\n",
    "            temp_list = sorted(temp_list, reverse=True)  \n",
    "              \n",
    "    return train, test"
   ]
  },
  {
   "cell_type": "code",
   "execution_count": 3,
   "metadata": {
    "collapsed": true
   },
   "outputs": [],
   "source": [
    "#Call the function and then assign train and test\n",
    "train, test = train_test_generation(ratings)\n",
    "trainMAE = train.copy()\n",
    "#Masked for CF and not masked for SVD\n",
    "train = np.ma.masked_where(train == 99, train)\n",
    "test = np.ma.masked_where(test == 99, test)"
   ]
  },
  {
   "cell_type": "code",
   "execution_count": 4,
   "metadata": {
    "collapsed": true
   },
   "outputs": [],
   "source": [
    "def SGD_factorization(train, K, steps=100, alpha=0.0001, beta=0.02):\n",
    "    N_user, N_item = train.shape\n",
    "    #U and V are latent vectors\n",
    "    U = np.random.rand(N_user,K)\n",
    "    V = np.random.rand(N_item,K).T\n",
    "    \n",
    "    #Run 10 steps\n",
    "    for step in xrange(steps):\n",
    "        for i in xrange(N_user):\n",
    "            for j in xrange(N_item):\n",
    "                if train[i,j] > -10 and train[i,j] < 10:\n",
    "                    eij = train[i][j] - np.dot(U[i,:],V[:,j])\n",
    "                    U[i] = U[i] + alpha * (2 * eij * V[:,j] - beta * U[i])\n",
    "                    V[:,j] = V[:,j] + alpha * (2 * eij * U[i] - beta * V[:,j])\n",
    "    nR = np.dot(U,V)\n",
    "    return nR"
   ]
  },
  {
   "cell_type": "code",
   "execution_count": 5,
   "metadata": {
    "collapsed": false
   },
   "outputs": [],
   "source": [
    "K = 10\n",
    "prediction_SGD = SGD_factorization(train, K=10, steps=100, alpha=0.0001)"
   ]
  },
  {
   "cell_type": "code",
   "execution_count": 6,
   "metadata": {
    "collapsed": true
   },
   "outputs": [],
   "source": [
    "#Assign user_prediction or item_prediction to parameter\n",
    "all_user_predicted_ratings = prediction_SGD"
   ]
  },
  {
   "cell_type": "code",
   "execution_count": 32,
   "metadata": {
    "collapsed": true
   },
   "outputs": [],
   "source": [
    "# 30 items for each user in test case and choose Top-N\n",
    "#Pick unkonwn index\n",
    "#evaluate recall and precise\n",
    "unknown_index = []\n",
    "exist_row = []\n",
    "#discard\n",
    "notexist_row = []\n",
    "for indexI in range(24983):\n",
    "    temp_row_index = np.where(trainMAE[indexI] == 99)\n",
    "    if len(list(temp_row_index[0])) < 30 :\n",
    "            notexist_row.append(indexI)\n",
    "    else:\n",
    "        temp_row_index_final = list(np.random.choice(temp_row_index[0], size = 30, replace = False))\n",
    "        unknown_index.append(temp_row_index_final)\n",
    "        exist_row.append(indexI)"
   ]
  },
  {
   "cell_type": "code",
   "execution_count": 33,
   "metadata": {
    "collapsed": true
   },
   "outputs": [],
   "source": [
    "#Find unknown rating for each user in training\n",
    "from collections import defaultdict\n",
    "combine = zip(exist_row, unknown_index)\n",
    "row_number_result = defaultdict(list)\n",
    "for indexI in range(len(combine)):\n",
    "    row_temp = list()\n",
    "    for item in combine[indexI][1]:\n",
    "        row_temp.append(all_user_predicted_ratings[combine[indexI][0]][item])\n",
    "    row_number_result[combine[indexI][0]].append(row_temp)"
   ]
  },
  {
   "cell_type": "code",
   "execution_count": 34,
   "metadata": {
    "collapsed": true
   },
   "outputs": [],
   "source": [
    "#Find known rating for each user in test\n",
    "row_test_result = defaultdict(list)\n",
    "for indexI in range(len(combine)):\n",
    "    a = test[combine[indexI][0]]\n",
    "    a = a[a != 0]\n",
    "    a = list(a)\n",
    "    row_test_result[combine[indexI][0]].append(a)"
   ]
  },
  {
   "cell_type": "code",
   "execution_count": 35,
   "metadata": {
    "collapsed": true
   },
   "outputs": [],
   "source": [
    "def recall_precise(index_matrix, test_index):\n",
    "    recall_result = []\n",
    "    precise_result = []\n",
    "    N = 1\n",
    "    recall_temp = 0\n",
    "    precise_temp = 0\n",
    "    \n",
    "    for item in exist_row:\n",
    "        temp_train_list = index_matrix[item][0]\n",
    "        for item_test in row_test_result[item][0]:\n",
    "            temp_train_list.append(item_test)\n",
    "            temp_sort_list = sorted(temp_train_list, reverse = True)\n",
    "            temp_index = temp_sort_list.index(item_test)\n",
    "            if temp_index < N:\n",
    "                count = 1\n",
    "            else:\n",
    "                count = 0 \n",
    "            recall_temp = count\n",
    "            precise_temp = float(count) / N\n",
    "            recall_result.append(recall_temp)\n",
    "            precise_result.append(precise_temp)\n",
    "    return recall_result, precise_result"
   ]
  },
  {
   "cell_type": "code",
   "execution_count": 36,
   "metadata": {
    "collapsed": false
   },
   "outputs": [
    {
     "name": "stdout",
     "output_type": "stream",
     "text": [
      "Recall: 0.998859458854\n",
      "Precise: 0.0399543783541\n"
     ]
    }
   ],
   "source": [
    "#Call two fcns to achieve to find\n",
    "recall_each, precise_each = recall_precise(row_number_result, row_test_result)\n",
    "recall_AVG = float(sum(recall_each)) / len(recall_each)\n",
    "precise_AVG = float(sum(precise_each)) / len(precise_each)\n",
    "print 'Recall: ' + str(recall_AVG)\n",
    "print 'Precise: ' + str(precise_AVG)"
   ]
  },
  {
   "cell_type": "code",
   "execution_count": null,
   "metadata": {
    "collapsed": true
   },
   "outputs": [],
   "source": []
  }
 ],
 "metadata": {
  "kernelspec": {
   "display_name": "Python 2",
   "language": "python",
   "name": "python2"
  },
  "language_info": {
   "codemirror_mode": {
    "name": "ipython",
    "version": 2
   },
   "file_extension": ".py",
   "mimetype": "text/x-python",
   "name": "python",
   "nbconvert_exporter": "python",
   "pygments_lexer": "ipython2",
   "version": "2.7.13"
  }
 },
 "nbformat": 4,
 "nbformat_minor": 2
}
