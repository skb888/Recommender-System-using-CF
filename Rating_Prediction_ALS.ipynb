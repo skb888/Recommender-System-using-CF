{
 "cells": [
  {
   "cell_type": "code",
   "execution_count": null,
   "metadata": {
    "collapsed": false
   },
   "outputs": [],
   "source": [
    "#Read Data From CSV file\n",
    "import pandas as pd\n",
    "df=pd.read_csv('NEWDATATABLE.csv', sep=',',header=None)\n",
    "ratings = df.values"
   ]
  },
  {
   "cell_type": "code",
   "execution_count": null,
   "metadata": {
    "collapsed": false
   },
   "outputs": [],
   "source": [
    "import numpy as np\n",
    "import matplotlib.pyplot as plt\n",
    "%matplotlib inline"
   ]
  },
  {
   "cell_type": "code",
   "execution_count": null,
   "metadata": {
    "collapsed": true
   },
   "outputs": [],
   "source": [
    "def train_test_generation(ratings):\n",
    "    #Cretae train and test matrix\n",
    "    test = np.ones(ratings.shape) * 99 #24983*100 and initzalize all be unknown 99 and ratings.shape[0] return 24983\n",
    "    train = ratings.copy()\n",
    "    #Make all unknown numbers 99 be 0\n",
    "    train = train - np.ones(ratings.shape) * 99\n",
    "    for user in xrange(ratings.shape[0]):\n",
    "        #Randomly pick 10 ratings from each user to be in test case (include unknown ratings)\n",
    "        test_ratings = np.random.choice(ratings[user, :].nonzero()[0], size = 20, replace = False)\n",
    "        #Set chosen be zero in training\n",
    "        train [user, test_ratings] = 0.\n",
    "        #Assign chosen rating to test case\n",
    "        test[user, test_ratings] = ratings[user, test_ratings]\n",
    "    \n",
    "    train = train + np.ones(ratings.shape) * 99\n",
    "    #Make sure train and test are disjoint \n",
    "    #assert(np.all((train * test) == 0))\n",
    "    return train, test"
   ]
  },
  {
   "cell_type": "code",
   "execution_count": null,
   "metadata": {
    "collapsed": true
   },
   "outputs": [],
   "source": [
    "#Call the function and then assign train and test\n",
    "train, test = train_test_generation(ratings)\n",
    "trainMAE = train.copy()\n",
    "#Masked for CF and not masked for SVD\n",
    "train = np.ma.masked_where(train == 99, train)\n",
    "test = np.ma.masked_where(test == 99, test)"
   ]
  },
  {
   "cell_type": "code",
   "execution_count": null,
   "metadata": {
    "collapsed": false
   },
   "outputs": [],
   "source": [
    "import json\n",
    "data = {}\n",
    "data['userID'] = 0\n",
    "data['businessID'] = 0\n",
    "data['rating'] = 0\n",
    "with open('file.txt', 'w') as file:\n",
    "    file.write(json.dumps(save))\n",
    "    file.write('\\n')\n",
    "\n",
    "for indexI in range(24983):\n",
    "    for indexJ in range(100):\n",
    "        test = data.copy()\n",
    "        test['userID'] = indexI\n",
    "        test['businessID'] = indexJ\n",
    "        test['rating'] = ratings[indexI][indexJ]\n",
    "        with open('file.txt', 'a') as file:\n",
    "            file.write(json.dumps(test))\n",
    "            file.write('\\n')"
   ]
  },
  {
   "cell_type": "code",
   "execution_count": null,
   "metadata": {
    "collapsed": true
   },
   "outputs": [],
   "source": [
    "with open(\"file.txt\", \"r\") as ins:\n",
    "    array = []\n",
    "    for line in ins:\n",
    "        array.append(line)"
   ]
  },
  {
   "cell_type": "code",
   "execution_count": null,
   "metadata": {
    "collapsed": false
   },
   "outputs": [],
   "source": [
    "import ast\n",
    "a = []\n",
    "for indexI in range(2498300):\n",
    "    temp = ast.literal_eval(array[indexI])\n",
    "    a.append(temp)"
   ]
  },
  {
   "cell_type": "code",
   "execution_count": null,
   "metadata": {
    "collapsed": true
   },
   "outputs": [],
   "source": [
    "#Compute MAE in training and test\n",
    "def get_mae(pred, actual):\n",
    "    mae_sum = 0\n",
    "    count = 0\n",
    "    for indexI in range(24983):\n",
    "        for indexJ in range(100):\n",
    "            if actual[indexI][indexJ] != 99:\n",
    "                mae_sum = mae_sum + np.abs(pred[indexI][indexJ] - actual[indexI][indexJ])\n",
    "                count = count + 1    \n",
    "    mae_sum = float(mae_sum) / count\n",
    "    return mae_sum"
   ]
  },
  {
   "cell_type": "code",
   "execution_count": null,
   "metadata": {
    "collapsed": false
   },
   "outputs": [],
   "source": [
    "from collections import defaultdict\n",
    "import random\n",
    "###initialzing \n",
    "User_perBusiness = defaultdict(list)\n",
    "Business_perUser = defaultdict(list) \n",
    "UserBusiness_rating = {} \n",
    "User_bias = {} \n",
    "Business_bias = {} \n",
    "GammaUser = {}\n",
    "GammaBusiness = {}\n",
    "\n",
    "alpha = 0 \n",
    "for l in a[:2498300]: \n",
    "    user,business = l['userID'],l['businessID'] \n",
    "    #Each Business - Multi users\n",
    "    User_perBusiness[business].append(l['userID']) \n",
    "    #Each User - Multi Businesses\n",
    "    Business_perUser[user].append(l['businessID']) \n",
    "    #Each User visits business rating\n",
    "    UserBusiness_rating[user+business] = l['rating'] \n",
    "    User_bias[user] = 0 \n",
    "    Business_bias[business] = 0 \n",
    "    GammaUser[user] = random.uniform(0, 1)\n",
    "    GammaBusiness[business] = random.uniform(0, 1)\n",
    "    Prev_MSE = 0 #randomly initializing previous MSE \n",
    "    Cur_MSE = 10 #randomly intitializing current MSE \n",
    "    lam = 5\n",
    "    #lam=5 best now;\n",
    "###############################################################################\n",
    "\n",
    "###############################################################################\n",
    "###Iterative procedure in fixing GammaUser\n",
    "while abs(Prev_MSE - Cur_MSE) > 0.000001: \n",
    "    Prev_MSE = Cur_MSE \n",
    "    #Alternating Least Squares\n",
    "    \n",
    "    ## update business Gamma \n",
    "    for i in GammaBusiness: \n",
    "        temp1 = sum([(UserBusiness_rating[u+i] - (alpha + User_bias[u] + Business_bias[i])) * GammaUser[u] for u in User_perBusiness[i]])\n",
    "        temp2 = sum([GammaUser[u] * GammaUser[u] for u in User_perBusiness[i]])\n",
    "        GammaBusiness[i] = temp1 / (lam + temp2)\n",
    "    \n",
    "    ## update alpha \n",
    "    alpha = [l['rating'] - (User_bias[l['userID']] + Business_bias[l['businessID']]) - (GammaUser[l['userID']] * GammaBusiness[l['businessID']]) for l in a[:2498300]] \n",
    "    alpha = sum(alpha) / 2498300 \n",
    "        \n",
    "    ## update user bias \n",
    "    for u in User_bias: \n",
    "        temp = sum([UserBusiness_rating[u+i] - (alpha + Business_bias[i]) - (GammaUser[u] * GammaBusiness[i])  for i in Business_perUser[u]]) \n",
    "        User_bias[u] = temp / (lam + len(Business_perUser[u]))\n",
    "        \n",
    "    ## update business bias \n",
    "    for i in Business_bias: \n",
    "        temp = sum([UserBusiness_rating[u+i] - (alpha + User_bias[u]) - (GammaUser[u] * GammaBusiness[i]) for u in User_perBusiness[i]]) \n",
    "        Business_bias[i] = temp / (lam + len(User_perBusiness[i]))\n",
    "        \n",
    "    ## compute MSE  and f=alpha+BetaU+BetaI+GammaU*GammaI\n",
    "    diff = [(l['rating'] - (alpha + User_bias[l['userID']] + Business_bias[l['businessID']] + GammaUser[l['userID']] * GammaBusiness[l['businessID']]))**2 for l in a[:2498300]] \n",
    "    \n",
    "    ##test on regularizer\n",
    "    regularizer = 0\n",
    "    for u in User_bias:\n",
    "        regularizer += User_bias[u]**2\n",
    "    for i in Business_bias:\n",
    "        regularizer += Business_bias[i]**2\n",
    "    for u in GammaUser:\n",
    "        regularizer += GammaUser[u]**2\n",
    "    for i in GammaBusiness:\n",
    "        regularizer += GammaBusiness[i]**2\n",
    "    Cur_MSE = sum(diff) / len(diff) + lam * regularizer\n",
    "    \n",
    "###############################################################################\n",
    "    \n",
    "###############################################################################    \n",
    "###Iterative procedure in fixing GammaBusiness\n",
    "Prev_MSE = 0 #randomly initializing previous MSE \n",
    "Cur_MSE = 10 #randomly intitializing current MSE \n",
    "while abs(Prev_MSE - Cur_MSE) > 0.000001: \n",
    "    Prev_MSE = Cur_MSE \n",
    "    #Alternating Least Squares\n",
    "    \n",
    "    ## update user Gamma \n",
    "    for u in GammaUser: \n",
    "        temp1 = sum([(UserBusiness_rating[u+i] - (alpha + User_bias[u] + Business_bias[i])) * GammaBusiness[i] for i in Business_perUser[u]])\n",
    "        temp2 = sum([GammaBusiness[i] * GammaBusiness[i] for i in Business_perUser[u]])\n",
    "        GammaUser[u] = temp1 / (lam + temp2)\n",
    "       \n",
    "    ## update alpha \n",
    "    alpha = [l['rating'] - (User_bias[l['userID']] + Business_bias[l['businessID']]) - (GammaUser[l['userID']] * GammaBusiness[l['businessID']]) for l in a[:2498300]] \n",
    "    alpha = sum(alpha) / 2498300 \n",
    "        \n",
    "    ## update user bias \n",
    "    for u in User_bias: \n",
    "        temp = sum([UserBusiness_rating[u+i] - (alpha + Business_bias[i]) - (GammaUser[u] * GammaBusiness[i])  for i in Business_perUser[u]]) \n",
    "        User_bias[u] = temp / (lam + len(Business_perUser[u]))\n",
    "        \n",
    "    ## update business bias \n",
    "    for i in Business_bias: \n",
    "        temp = sum([UserBusiness_rating[u+i] - (alpha + User_bias[u]) - (GammaUser[u] * GammaBusiness[i]) for u in User_perBusiness[i]]) \n",
    "        Business_bias[i] = temp / (lam + len(User_perBusiness[i]))\n",
    "        \n",
    "    ## compute MSE  and f=alpha+BetaU+BetaI+GammaU*GammaI\n",
    "    diff = [(l['rating'] - (alpha + User_bias[l['userID']] + Business_bias[l['businessID']] + GammaUser[l['userID']] * GammaBusiness[l['businessID']]))**2 for l in a[:2498300]] \n",
    "    \n",
    "    ##test on regularizer\n",
    "    regularizer = 0\n",
    "    for u in User_bias:\n",
    "        regularizer += User_bias[u]**2\n",
    "    for i in Business_bias:\n",
    "        regularizer += Business_bias[i]**2\n",
    "    for u in GammaUser:\n",
    "        regularizer += GammaUser[u]**2\n",
    "    for i in GammaBusiness:\n",
    "        regularizer += GammaBusiness[i]**2\n",
    "    Cur_MSE = sum(diff) / len(diff) + lam * regularizer\n",
    "    \n",
    "############################################################################### \n",
    "\n",
    "###############################################################################   \n",
    "###Iterative procedure \n",
    "Prev_MSE = 0 #randomly initializing previous MSE \n",
    "Cur_MSE = 10 #randomly intitializing current MSE \n",
    "while abs(Prev_MSE - Cur_MSE) > 0.000000001: \n",
    "    Prev_MSE = Cur_MSE \n",
    "    #Alternating Least Squares    \n",
    "    \n",
    "    ## update alpha \n",
    "    alpha = [l['rating'] - (User_bias[l['userID']] + Business_bias[l['businessID']]) - (GammaUser[l['userID']] * GammaBusiness[l['businessID']]) for l in a[:2498300]] \n",
    "    alpha = sum(alpha) / 2498300 \n",
    "        \n",
    "    ## update user bias \n",
    "    for u in User_bias: \n",
    "        temp = sum([UserBusiness_rating[u+i] - (alpha + Business_bias[i]) - (GammaUser[u] * GammaBusiness[i])  for i in Business_perUser[u]]) \n",
    "        User_bias[u] = temp / (lam + len(Business_perUser[u]))\n",
    "        \n",
    "    ## update business bias \n",
    "    for i in Business_bias: \n",
    "        temp = sum([UserBusiness_rating[u+i] - (alpha + User_bias[u]) - (GammaUser[u] * GammaBusiness[i]) for u in User_perBusiness[i]]) \n",
    "        Business_bias[i] = temp / (lam + len(User_perBusiness[i]))\n",
    "        \n",
    "    ## compute MSE  and f=alpha+BetaU+BetaI+GammaU*GammaI\n",
    "    diff = [(l['rating'] - (alpha + User_bias[l['userID']] + Business_bias[l['businessID']] + GammaUser[l['userID']] * GammaBusiness[l['businessID']]))**2 for l in a[:2498300]] \n",
    "    \n",
    "    ##test on regularizer\n",
    "    regularizer = 0\n",
    "    for u in User_bias:\n",
    "        regularizer += User_bias[u]**2\n",
    "    for i in Business_bias:\n",
    "        regularizer += Business_bias[i]**2\n",
    "    for u in GammaUser:\n",
    "        regularizer += GammaUser[u]**2\n",
    "    for i in GammaBusiness:\n",
    "        regularizer += GammaBusiness[i]**2\n",
    "    Cur_MSE = sum(diff) / len(diff) + lam * regularizer"
   ]
  },
  {
   "cell_type": "code",
   "execution_count": null,
   "metadata": {
    "collapsed": true
   },
   "outputs": [],
   "source": [
    "PredictionRating = [] \n",
    "for u in User_bias:\n",
    "    for i in Business_bias: \n",
    "        prediction_ALS_temp = alpha + User_bias[u] + Business_bias[i] + GammaUser[u] * GammaBusiness[i]\n",
    "        PredictionRating.append(prediction_ALS_temp)\n",
    "count = 0\n",
    "for indexI in range(24983):\n",
    "    for indexJ in range(100):\n",
    "        prediction_ALS[indexI][indexJ] = PredictionRating[count]\n",
    "        count = count + 1"
   ]
  },
  {
   "cell_type": "code",
   "execution_count": null,
   "metadata": {
    "collapsed": true
   },
   "outputs": [],
   "source": [
    "print 'ALS Train MAE: ' + str(get_mae(prediction_ALS, train))\n",
    "print 'ALS Test MAE: ' + str(get_mae(prediction_ALS, test))"
   ]
  }
 ],
 "metadata": {
  "kernelspec": {
   "display_name": "Python 2",
   "language": "python",
   "name": "python2"
  },
  "language_info": {
   "codemirror_mode": {
    "name": "ipython",
    "version": 2
   },
   "file_extension": ".py",
   "mimetype": "text/x-python",
   "name": "python",
   "nbconvert_exporter": "python",
   "pygments_lexer": "ipython2",
   "version": "2.7.13"
  }
 },
 "nbformat": 4,
 "nbformat_minor": 2
}
