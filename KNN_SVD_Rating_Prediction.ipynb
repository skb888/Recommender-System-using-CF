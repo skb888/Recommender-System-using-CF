{
 "cells": [
  {
   "cell_type": "code",
   "execution_count": 1,
   "metadata": {
    "collapsed": true
   },
   "outputs": [],
   "source": [
    "#Read Data From CSV file\n",
    "import pandas as pd\n",
    "df=pd.read_csv('NEWDATATABLE.csv', sep=',',header=None)\n",
    "ratings = df.values"
   ]
  },
  {
   "cell_type": "code",
   "execution_count": 2,
   "metadata": {
    "collapsed": true
   },
   "outputs": [],
   "source": [
    "import numpy as np\n",
    "import matplotlib.pyplot as plt\n",
    "%matplotlib inline"
   ]
  },
  {
   "cell_type": "code",
   "execution_count": 3,
   "metadata": {
    "collapsed": true
   },
   "outputs": [],
   "source": [
    "def train_test_generation(ratings):\n",
    "    #Cretae train and test matrix\n",
    "    test = np.ones(ratings.shape) * 99 #24983*100 and initzalize all be unknown 99 and ratings.shape[0] return 24983\n",
    "    train = ratings.copy()\n",
    "    #Make all unknown numbers 99 be 0\n",
    "    train = train - np.ones(ratings.shape) * 99\n",
    "    for user in xrange(ratings.shape[0]):\n",
    "        #Randomly pick 10 ratings from each user to be in test case (include unknown ratings)\n",
    "        test_ratings = np.random.choice(ratings[user, :].nonzero()[0], size = 20, replace = False)\n",
    "        #Set chosen be zero in training\n",
    "        train [user, test_ratings] = 0.\n",
    "        #Assign chosen rating to test case\n",
    "        test[user, test_ratings] = ratings[user, test_ratings]\n",
    "    \n",
    "    train = train + np.ones(ratings.shape) * 99\n",
    "    #Make sure train and test are disjoint \n",
    "    #assert(np.all((train * test) == 0))\n",
    "    return train, test"
   ]
  },
  {
   "cell_type": "code",
   "execution_count": 4,
   "metadata": {
    "collapsed": true
   },
   "outputs": [],
   "source": [
    "#Call the function and then assign train and test\n",
    "train, test = train_test_generation(ratings)\n",
    "#Masked for CF and not masked for SVD\n",
    "train = np.ma.masked_where(train == 99, train)\n",
    "test = np.ma.masked_where(test == 99, test)\n",
    "trainMAE = train.copy()"
   ]
  },
  {
   "cell_type": "code",
   "execution_count": 149,
   "metadata": {
    "collapsed": true
   },
   "outputs": [],
   "source": [
    "#Find averge of each column\n",
    "train_average_column = np.zeros(100)\n",
    "for indexI in range(100):\n",
    "    tempsum = 0;\n",
    "    count = 0; \n",
    "    for indexJ in range(24983):\n",
    "        if train[indexJ][indexI] != 99:\n",
    "            tempsum = tempsum + train[indexJ][indexI]\n",
    "            count = count + 1\n",
    "    train_average_column[indexI] = float(tempsum) / count\n",
    "#Find averge of each row\n",
    "train_average_row = np.zeros(24983)\n",
    "for indexI in range(24983):\n",
    "    tempsum = 0;\n",
    "    count = 0; \n",
    "    for indexJ in range(100):\n",
    "        if train[indexI][indexJ] != 99:\n",
    "            tempsum = tempsum + train[indexI][indexJ]\n",
    "            count = count + 1\n",
    "    train_average_row[indexI] = float(tempsum) / count"
   ]
  },
  {
   "cell_type": "code",
   "execution_count": 152,
   "metadata": {
    "collapsed": true
   },
   "outputs": [],
   "source": [
    "train_norm = train.copy()\n",
    "#Fill the sparse with avergae of item score\n",
    "for indexI in range(24983):\n",
    "    for indexJ in range(100):\n",
    "        if train_norm[indexI][indexJ] == 99:\n",
    "            train_norm[indexI][indexJ] = train_average_column[indexJ]"
   ]
  },
  {
   "cell_type": "code",
   "execution_count": 158,
   "metadata": {
    "collapsed": true
   },
   "outputs": [],
   "source": [
    "#Substraction of customer AVG from each rating\n",
    "for indexI in range(24983):\n",
    "    for indexJ in range(100):\n",
    "        train_norm[indexI][indexJ] = train_norm[indexI][indexJ] - train_average_row[indexI]"
   ]
  },
  {
   "cell_type": "code",
   "execution_count": 5,
   "metadata": {
    "collapsed": true
   },
   "outputs": [],
   "source": [
    "#from sklearn.metrics import mean_absolute_error\n",
    "#Compute MAE in training and test\n",
    "def get_mae(pred, actual):\n",
    "    mae_sum = 0\n",
    "    count = 0\n",
    "    for indexI in range(24983):\n",
    "        for indexJ in range(100):\n",
    "            if actual[indexI][indexJ] != 99:\n",
    "                mae_sum = mae_sum + np.abs(pred[indexI][indexJ] - actual[indexI][indexJ])\n",
    "                count = count + 1    \n",
    "    mae_sum = float(mae_sum) / count\n",
    "    return mae_sum"
   ]
  },
  {
   "cell_type": "code",
   "execution_count": 31,
   "metadata": {
    "collapsed": true
   },
   "outputs": [],
   "source": [
    "def myPlot(pred, actual):\n",
    "    pred = pred.flatten()\n",
    "    actual = actual.flatten()\n",
    "    plt.plot(actual, pred, 'ro')\n",
    "    plt.xlabel(\"actual\")\n",
    "    plt.ylabel(\"prediction\")\n",
    "    plt.xlim([-10,10])\n",
    "    plt.show"
   ]
  },
  {
   "cell_type": "code",
   "execution_count": 163,
   "metadata": {},
   "outputs": [
    {
     "name": "stdout",
     "output_type": "stream",
     "text": [
      "SVD training MAE: 2.85613648356\n",
      "SVD testing MAE: 3.29144817068\n"
     ]
    }
   ],
   "source": [
    "from scipy.sparse.linalg import svds\n",
    "\n",
    "U, sigma, Vt = svds(train_norm, k=10)\n",
    "sigma = np.diag(sigma)\n",
    "all_user_predicted_ratings = np.dot(np.dot(U, sigma), Vt) + train_average_row.reshape(-1,1)\n",
    "\n",
    "print 'SVD training MAE: ' + str(get_mae(all_user_predicted_ratings, train))\n",
    "print 'SVD testing MAE: ' + str(get_mae(all_user_predicted_ratings, test))"
   ]
  },
  {
   "cell_type": "code",
   "execution_count": 164,
   "metadata": {
    "collapsed": true
   },
   "outputs": [],
   "source": [
    "def mySVD(k):\n",
    "    U, sigma, Vt = svds(train_norm, k=k)\n",
    "    sigma = np.diag(sigma)\n",
    "    all_user_predicted_ratings = np.dot(np.dot(U, sigma), Vt) + train_average_row.reshape(-1,1)\n",
    "    return get_mae(all_user_predicted_ratings, train), get_mae(all_user_predicted_ratings, test)"
   ]
  },
  {
   "cell_type": "code",
   "execution_count": 165,
   "metadata": {},
   "outputs": [
    {
     "data": {
      "image/png": "[encoded data removed]",
      "text/plain": [
       "<matplotlib.figure.Figure at 0x13095a3d0>"
      ]
     },
     "metadata": {},
     "output_type": "display_data"
    }
   ],
   "source": [
    "ks = [1,2,5,10,15,30,50,70,90]\n",
    "train_MAEs = []\n",
    "test_MAEs = []\n",
    "for k in ks:\n",
    "    train_MAE, test_MAE = mySVD(k)\n",
    "    train_MAEs.append(train_MAE)\n",
    "    test_MAEs.append(test_MAE)\n",
    "fig = plt.figure()\n",
    "plt.plot(ks, train_MAEs, 'r', label=\"Train\")\n",
    "plt.plot(ks, test_MAEs, 'b', label=\"Test\")\n",
    "plt.xlabel(\"k\")\n",
    "plt.ylabel(\"MAE\")\n",
    "plt.title(\"MAE vs k\")\n",
    "plt.legend(bbox_to_anchor=(1.05, 1), loc=2, borderaxespad=0.)\n",
    "plt.grid()\n",
    "plt.show()\n",
    "fig.savefig(\"MAE vs k\")"
   ]
  },
  {
   "cell_type": "code",
   "execution_count": 166,
   "metadata": {},
   "outputs": [
    {
     "data": {
      "image/png": "[encoded data removed]",
      "text/plain": [
       "<matplotlib.figure.Figure at 0x12587ce90>"
      ]
     },
     "metadata": {},
     "output_type": "display_data"
    }
   ],
   "source": [
    "ks = [2,4,6,8,10,12,14]\n",
    "train_MAEs = []\n",
    "test_MAEs = []\n",
    "for k in ks:\n",
    "    train_MAE, test_MAE = mySVD(k)\n",
    "    train_MAEs.append(train_MAE)\n",
    "    test_MAEs.append(test_MAE)\n",
    "fig = plt.figure()\n",
    "plt.plot(ks, train_MAEs, 'r', label=\"Train\")\n",
    "plt.plot(ks, test_MAEs, 'b', label=\"Test\")\n",
    "plt.xlabel(\"k\")\n",
    "plt.ylabel(\"MAE\")\n",
    "plt.title(\"MAE vs k\")\n",
    "plt.legend(bbox_to_anchor=(1.05, 1), loc=2, borderaxespad=0.)\n",
    "plt.grid()\n",
    "plt.show()\n",
    "fig.savefig(\"MAE vs k\")"
   ]
  },
  {
   "cell_type": "code",
   "execution_count": 6,
   "metadata": {},
   "outputs": [
    {
     "name": "stdout",
     "output_type": "stream",
     "text": [
      "Baseline Model Train MAE: 3.65278144647\n",
      "Baseline Model Test MAE: 3.73905334537\n"
     ]
    }
   ],
   "source": [
    "#Baseline Model\n",
    "#Train has been masked for computing user_bias\n",
    "user_bias = train.mean(axis=1)\n",
    "#prediction_baseline = np.zeros(test.shape) + train_average_row[:,np.newaxis]\n",
    "prediction_baseline = np.zeros(test.shape) + user_bias[:,np.newaxis]\n",
    "print 'Baseline Model Train MAE: ' + str(get_mae(prediction_baseline,train))\n",
    "print 'Baseline Model Test MAE: ' + str(get_mae(prediction_baseline,test))"
   ]
  },
  {
   "cell_type": "code",
   "execution_count": 6,
   "metadata": {
    "collapsed": true
   },
   "outputs": [],
   "source": [
    "#Fcn to compute user or item similarity\n",
    "from sklearn.metrics.pairwise import cosine_similarity\n",
    "\n",
    "def similarity(ratings, kind='user'):\n",
    "    if kind == 'user':\n",
    "        sim = cosine_similarity(ratings)\n",
    "        assert(sim.shape[0] == ratings.shape[0])\n",
    "    elif kind == 'item':\n",
    "        sim = cosine_similarity(ratings.T)\n",
    "        assert(sim.shape[0] == ratings.shape[1])\n",
    "    sim[np.isnan(sim)] = 0\n",
    "    np.fill_diagonal(sim,0)\n",
    "    return sim"
   ]
  },
  {
   "cell_type": "code",
   "execution_count": 7,
   "metadata": {
    "collapsed": true
   },
   "outputs": [],
   "source": [
    "#Compute item and user similarity\n",
    "item_similarity = similarity(train, kind='item')\n",
    "user_similarity = similarity(train, kind='user')\n",
    "#Copy them for finding index in KNN\n",
    "item_similarity_fcn = item_similarity.copy()\n",
    "user_similarity_fcn = user_similarity.copy()\n",
    "#Copy them for computing Top K CF based\n",
    "item_similarity_CF = item_similarity.copy()\n",
    "user_similarity_CF = user_similarity.copy()"
   ]
  },
  {
   "cell_type": "code",
   "execution_count": 10,
   "metadata": {
    "collapsed": true
   },
   "outputs": [],
   "source": [
    "def predict(ratings, similarity, kind ='user'):\n",
    "    if kind == 'user':\n",
    "        user_bias = ratings.mean(axis = 1)\n",
    "        ratings = (ratings - user_bias[:, np.newaxis]).copy()\n",
    "        pred = np.ma.dot(similarity, ratings) / np.array([np.abs(similarity).sum(axis=1)+1e-6]).T\n",
    "        pred += user_bias[:, np.newaxis]\n",
    "    elif kind == 'item':\n",
    "        item_bias = ratings.mean(axis = 0)\n",
    "        ratings = (ratings - item_bias[np.newaxis, :]).copy()\n",
    "        pred = np.ma.dot(ratings, similarity) / np.array([np.abs(similarity).sum(axis=1)+1e-6])\n",
    "        pred += item_bias[np.newaxis, :]\n",
    "        \n",
    "    return pred"
   ]
  },
  {
   "cell_type": "code",
   "execution_count": 9,
   "metadata": {},
   "outputs": [
    {
     "name": "stdout",
     "output_type": "stream",
     "text": [
      "User-based CF Train MAE: 3.42836222924\n",
      "User-based CF Test MAE: 3.50437041372\n"
     ]
    }
   ],
   "source": [
    "user_prediction = predict(train, user_similarity, kind = 'user')\n",
    "print 'User-based CF Train MAE: ' + str(get_mae(user_prediction, train))\n",
    "print 'User-based CF Test MAE: ' + str(get_mae(user_prediction, test))"
   ]
  },
  {
   "cell_type": "code",
   "execution_count": 10,
   "metadata": {},
   "outputs": [
    {
     "name": "stdout",
     "output_type": "stream",
     "text": [
      "Item-based CF Train MAE: 3.60228285891\n",
      "Item-based CF Test MAE: 3.62044944882\n"
     ]
    }
   ],
   "source": [
    "item_prediction = predict(train, item_similarity, kind = 'item')\n",
    "print 'Item-based CF Train MAE: ' + str(get_mae(item_prediction, train))\n",
    "print 'Item-based CF Test MAE: ' + str(get_mae(item_prediction, test))"
   ]
  },
  {
   "cell_type": "code",
   "execution_count": 11,
   "metadata": {
    "collapsed": true
   },
   "outputs": [],
   "source": [
    "#Compute KNN fcn to find K neighbors\n",
    "def KNN(matrix_KNN, K):\n",
    "    length_KNN = len(matrix_KNN)\n",
    "    result_KNN = [[0]*K for i in range(len(matrix_KNN))]\n",
    "    for indexI in range(length_KNN):\n",
    "        for indexJ in range(K):\n",
    "            maxtmp = np.max(matrix_KNN[indexI])\n",
    "            result_KNN[indexI][indexJ] = np.where(matrix_KNN == maxtmp)\n",
    "            matrix_KNN[np.where(matrix_KNN == maxtmp)]= 0\n",
    "    return result_KNN      "
   ]
  },
  {
   "cell_type": "code",
   "execution_count": 12,
   "metadata": {
    "collapsed": true
   },
   "outputs": [],
   "source": [
    "#Pick K and call KNN Fcn to find OPTION2\n",
    "k = 5\n",
    "item_similarity_KNN_index  = KNN(item_similarity_fcn, k)\n",
    "#Save index into a list (100,k)\n",
    "item_similarity_KNN_index_final = [[0]*k for i in range(len(item_similarity_KNN_index))]\n",
    "for indexI in range(len(item_similarity_KNN_index)):\n",
    "    for indexJ in range(k):\n",
    "        if indexI == item_similarity_KNN_index[indexI][indexJ][1][0]:\n",
    "            temp = item_similarity_KNN_index[indexI][indexJ][1][1]\n",
    "        else:\n",
    "            temp = item_similarity_KNN_index[indexI][indexJ][1][0]\n",
    "        item_similarity_KNN_index_final[indexI][indexJ] = temp"
   ]
  },
  {
   "cell_type": "code",
   "execution_count": 36,
   "metadata": {
    "collapsed": true
   },
   "outputs": [],
   "source": [
    "#KNN for item based OPTION1\n",
    "from sklearn.neighbors import NearestNeighbors\n",
    "nbrs = NearestNeighbors(n_neighbors=30, algorithm='ball_tree').fit(item_similarity_fcn)\n",
    "KNN_result = nbrs.kneighbors_graph(item_similarity_fcn).toarray()"
   ]
  },
  {
   "cell_type": "code",
   "execution_count": 37,
   "metadata": {
    "collapsed": true
   },
   "outputs": [],
   "source": [
    "#Make CF based on Item prediction that store values into list\n",
    "item_similarity_CF_final = np.zeros((100,100))\n",
    "for indexI in range(100):\n",
    "    #Conversion for call sklearn KNN lib\n",
    "    item_similarity_KNN_index_final = list(KNN_result[indexI].nonzero()[0])\n",
    "    #OPTION2\n",
    "    #for item in item_similarity_KNN_index_final[indexI]:\n",
    "    #OPTION1\n",
    "    for item in item_similarity_KNN_index_final:   \n",
    "        item_similarity_CF_final[indexI][item] = item_similarity[indexI][item]"
   ]
  },
  {
   "cell_type": "code",
   "execution_count": 38,
   "metadata": {
    "scrolled": true
   },
   "outputs": [
    {
     "name": "stdout",
     "output_type": "stream",
     "text": [
      "Item-based CF Train MAE: 3.42016175529\n",
      "Item-based CF Test MAE: 3.43812779402\n"
     ]
    }
   ],
   "source": [
    "item_prediction_CFKNN = predict(train, item_similarity_CF_final, kind = 'item')\n",
    "print 'Item-based CF Train MAE: ' + str(get_mae(item_prediction_CFKNN, train))\n",
    "print 'Item-based CF Test MAE: ' + str(get_mae(item_prediction_CFKNN, test))"
   ]
  },
  {
   "cell_type": "code",
   "execution_count": null,
   "metadata": {
    "collapsed": true
   },
   "outputs": [],
   "source": [
    "#KNN for user based OPTION1\n",
    "from sklearn.neighbors import NearestNeighbors\n",
    "nbrs = NearestNeighbors(n_neighbors=20, algorithm='ball_tree').fit(user_similarity_fcn)\n",
    "KNN_result_user = nbrs.kneighbors_graph(user_similarity_fcn).toarray()"
   ]
  },
  {
   "cell_type": "code",
   "execution_count": null,
   "metadata": {
    "collapsed": true
   },
   "outputs": [],
   "source": [
    "#Make CF based on User prediction that store values into list\n",
    "user_similarity_CF_final = np.zeros((24983,24983))\n",
    "for indexI in range(24983):\n",
    "    user_similarity_KNN_index_final = list(KNN_result_user[indexI].nonzero()[0])\n",
    "    for user in user_similarity_KNN_index_final:\n",
    "        user_similarity_CF_final[indexI][user] = user_similarity[indexI][user]"
   ]
  },
  {
   "cell_type": "code",
   "execution_count": null,
   "metadata": {
    "collapsed": true
   },
   "outputs": [],
   "source": [
    "user_prediction_CFKNN = predict(train, item_similarity_CF_final, kind = 'item')\n",
    "print 'User-based CF Train MAE: ' + str(get_mae(user_prediction_CFKNN, train))\n",
    "print 'User-based CF Test MAE: ' + str(get_mae(user_prediction_CFKNN, test))"
   ]
  },
  {
   "cell_type": "code",
   "execution_count": 8,
   "metadata": {
    "collapsed": true
   },
   "outputs": [],
   "source": [
    "#Do compution for similarity is less than 0.3\n",
    "user_sim_nearest_neighbor = user_similarity.copy()\n",
    "user_sim_nearest_neighbor[np.abs(user_sim_nearest_neighbor)<0.3] = 0\n",
    "\n",
    "item_sim_nearest_neighbor = item_similarity.copy()\n",
    "item_sim_nearest_neighbor[np.abs(item_sim_nearest_neighbor)<0.3] = 0"
   ]
  },
  {
   "cell_type": "code",
   "execution_count": 12,
   "metadata": {},
   "outputs": [
    {
     "name": "stdout",
     "output_type": "stream",
     "text": [
      "User-based CF Train MAE: 3.43634278345\n",
      "Item-based CF Train MAE: 3.6836462091\n",
      "User-based CF Test MAE: 3.51731365556\n",
      "Item-based CF Test MAE: 3.70526069104\n"
     ]
    }
   ],
   "source": [
    "user_prediction = predict(train, user_sim_nearest_neighbor, kind = 'user')\n",
    "print 'User-based CF Train MAE: ' + str(get_mae(user_prediction, train))\n",
    "item_prediction = predict(train, item_sim_nearest_neighbor, kind = 'item')\n",
    "print 'Item-based CF Train MAE: ' + str(get_mae(item_prediction, train))\n",
    "user_prediction = predict(train, user_sim_nearest_neighbor, kind = 'user')\n",
    "print 'User-based CF Test MAE: ' + str(get_mae(user_prediction, test))\n",
    "item_prediction = predict(train, item_sim_nearest_neighbor, kind = 'item')\n",
    "print 'Item-based CF Test MAE: ' + str(get_mae(item_prediction, test))\n"
   ]
  },
  {
   "cell_type": "code",
   "execution_count": null,
   "metadata": {
    "collapsed": true
   },
   "outputs": [],
   "source": []
  }
 ],
 "metadata": {
  "kernelspec": {
   "display_name": "Python 2",
   "language": "python",
   "name": "python2"
  },
  "language_info": {
   "codemirror_mode": {
    "name": "ipython",
    "version": 2
   },
   "file_extension": ".py",
   "mimetype": "text/x-python",
   "name": "python",
   "nbconvert_exporter": "python",
   "pygments_lexer": "ipython2",
   "version": "2.7.14"
  }
 },
 "nbformat": 4,
 "nbformat_minor": 2
}
